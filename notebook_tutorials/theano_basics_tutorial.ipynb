{
 "cells": [
  {
   "cell_type": "markdown",
   "metadata": {},
   "source": [
    "\n",
    "# Linear Regression in Theano"
   ]
  },
  {
   "cell_type": "markdown",
   "metadata": {},
   "source": [
    "https://www.youtube.com/watch?v=S75EdAcXHKk"
   ]
  },
  {
   "cell_type": "code",
   "execution_count": 70,
   "metadata": {
    "collapsed": true
   },
   "outputs": [],
   "source": [
    "from __future__ import division\n",
    "\n",
    "%matplotlib inline\n",
    "\n",
    "import numpy as np\n",
    "import matplotlib as mpl\n",
    "from matplotlib import pyplot as plt\n",
    "\n",
    "import mpld3\n",
    "mpld3.enable_notebook()"
   ]
  },
  {
   "cell_type": "code",
   "execution_count": 71,
   "metadata": {
    "collapsed": false
   },
   "outputs": [],
   "source": [
    "import theano\n",
    "from theano import tensor"
   ]
  },
  {
   "cell_type": "markdown",
   "metadata": {},
   "source": [
    "## Load MNIST Data"
   ]
  },
  {
   "cell_type": "code",
   "execution_count": 72,
   "metadata": {
    "collapsed": false
   },
   "outputs": [],
   "source": [
    "from os import path\n",
    "data_path = '/home/andershuss/data/theano_data/mnist/train/'\n",
    "features = np.load(path.join(data_path, 'features.npy'))\n",
    "targets = np.load(path.join(data_path, 'targets.npy'))"
   ]
  },
  {
   "cell_type": "code",
   "execution_count": 73,
   "metadata": {
    "collapsed": false
   },
   "outputs": [
    {
     "data": {
      "text/plain": [
       "(1000, 1, 28, 28)"
      ]
     },
     "execution_count": 73,
     "metadata": {},
     "output_type": "execute_result"
    }
   ],
   "source": [
    "features.shape"
   ]
  },
  {
   "cell_type": "code",
   "execution_count": 74,
   "metadata": {
    "collapsed": false
   },
   "outputs": [
    {
     "data": {
      "text/plain": [
       "(1000, 1)"
      ]
     },
     "execution_count": 74,
     "metadata": {},
     "output_type": "execute_result"
    }
   ],
   "source": [
    "targets.shape"
   ]
  },
  {
   "cell_type": "code",
   "execution_count": 75,
   "metadata": {
    "collapsed": false
   },
   "outputs": [],
   "source": [
    "n_samples = targets.shape[0]\n",
    "n_classes = len(np.unique(targets))\n",
    "n_features = 28 * 28"
   ]
  },
  {
   "cell_type": "markdown",
   "metadata": {},
   "source": [
    "### Flatten and normalize X"
   ]
  },
  {
   "cell_type": "code",
   "execution_count": 76,
   "metadata": {
    "collapsed": true
   },
   "outputs": [],
   "source": [
    "training_X = features.reshape(n_samples, -1) / 255.0  # normalize!"
   ]
  },
  {
   "cell_type": "markdown",
   "metadata": {},
   "source": [
    "### One-hot-encode y"
   ]
  },
  {
   "cell_type": "code",
   "execution_count": 77,
   "metadata": {
    "collapsed": false
   },
   "outputs": [
    {
     "data": {
      "text/plain": [
       "array([[5],\n",
       "       [0],\n",
       "       [4],\n",
       "       [1],\n",
       "       [9]], dtype=uint8)"
      ]
     },
     "execution_count": 77,
     "metadata": {},
     "output_type": "execute_result"
    }
   ],
   "source": [
    "targets[:5]"
   ]
  },
  {
   "cell_type": "code",
   "execution_count": 78,
   "metadata": {
    "collapsed": false
   },
   "outputs": [
    {
     "data": {
      "text/plain": [
       "array([[ 0.,  0.,  0.,  0.,  0.,  1.,  0.,  0.,  0.,  0.],\n",
       "       [ 1.,  0.,  0.,  0.,  0.,  0.,  0.,  0.,  0.,  0.],\n",
       "       [ 0.,  0.,  0.,  0.,  1.,  0.,  0.,  0.,  0.,  0.],\n",
       "       [ 0.,  1.,  0.,  0.,  0.,  0.,  0.,  0.,  0.,  0.],\n",
       "       [ 0.,  0.,  0.,  0.,  0.,  0.,  0.,  0.,  0.,  1.]])"
      ]
     },
     "execution_count": 78,
     "metadata": {},
     "output_type": "execute_result"
    }
   ],
   "source": [
    "training_y = targets.flatten()\n",
    "training_y_one_hot = np.zeros((targets.shape[0], 10))\n",
    "training_y_one_hot[np.arange(n_samples), targets.flatten()] = 1.0\n",
    "training_y_one_hot[:5]"
   ]
  },
  {
   "cell_type": "code",
   "execution_count": 79,
   "metadata": {
    "collapsed": true
   },
   "outputs": [],
   "source": [
    "def floatX(x):\n",
    "    return np.asarray(x, dtype=theano.config.floatX)"
   ]
  },
  {
   "cell_type": "code",
   "execution_count": 80,
   "metadata": {
    "collapsed": true
   },
   "outputs": [],
   "source": [
    "def init_param(shape):\n",
    "    std = 0.01\n",
    "    param = theano.shared(\n",
    "        floatX(\n",
    "            np.random.randn(*shape) * std\n",
    "        )\n",
    "    )\n",
    "    return param"
   ]
  },
  {
   "cell_type": "code",
   "execution_count": 81,
   "metadata": {
    "collapsed": true
   },
   "outputs": [],
   "source": [
    "def model(X, W):\n",
    "    y_prob_hat = tensor.nnet.softmax(\n",
    "        tensor.dot(X, W)\n",
    "    )\n",
    "    return y_prob_hat"
   ]
  },
  {
   "cell_type": "code",
   "execution_count": 82,
   "metadata": {
    "collapsed": true
   },
   "outputs": [],
   "source": [
    "X = tensor.fmatrix('X')\n",
    "y_one_hot = tensor.fmatrix('y')"
   ]
  },
  {
   "cell_type": "code",
   "execution_count": 83,
   "metadata": {
    "collapsed": false
   },
   "outputs": [],
   "source": [
    "W = init_param(\n",
    "    shape=(\n",
    "        training_X.shape[1],\n",
    "        10\n",
    "    )\n",
    ")  # shape = (28 x 28, 10) = (n_features, n_classes) "
   ]
  },
  {
   "cell_type": "code",
   "execution_count": 84,
   "metadata": {
    "collapsed": false
   },
   "outputs": [],
   "source": [
    "y_prob_hat = model(X, W)\n",
    "y_hat = tensor.argmax(y_prob_hat, axis=1)"
   ]
  },
  {
   "cell_type": "code",
   "execution_count": 85,
   "metadata": {
    "collapsed": false
   },
   "outputs": [],
   "source": [
    "cost = tensor.mean(\n",
    "    tensor.nnet.categorical_crossentropy(\n",
    "        y_prob_hat,\n",
    "        y_one_hot\n",
    "    )\n",
    ")"
   ]
  },
  {
   "cell_type": "code",
   "execution_count": 86,
   "metadata": {
    "collapsed": true
   },
   "outputs": [],
   "source": [
    "gradient = tensor.grad(cost, wrt=W)"
   ]
  },
  {
   "cell_type": "code",
   "execution_count": 87,
   "metadata": {
    "collapsed": false
   },
   "outputs": [],
   "source": [
    "learning_rate = 0.05\n",
    "updates = [[W, W - gradient * learning_rate]]"
   ]
  },
  {
   "cell_type": "code",
   "execution_count": 88,
   "metadata": {
    "collapsed": false
   },
   "outputs": [],
   "source": [
    "train_one_batch = theano.function(\n",
    "    inputs=[X, y_one_hot],\n",
    "    outputs=cost,\n",
    "    updates=updates,\n",
    "    allow_input_downcast=True\n",
    ")"
   ]
  },
  {
   "cell_type": "code",
   "execution_count": 89,
   "metadata": {
    "collapsed": false
   },
   "outputs": [],
   "source": [
    "def train_one_epoch(batch_size=100):\n",
    "    cost_acc = 0.0\n",
    "    n_processed_batches = 0\n",
    "    for start, end in zip(\n",
    "        range(0, n_samples, batch_size),\n",
    "        range(batch_size, n_samples, batch_size)\n",
    "    ):\n",
    "        batch_cost = train_one_batch(\n",
    "            training_X[start:end, :],\n",
    "            training_y_one_hot[start:end, :]\n",
    "        )\n",
    "        cost_acc += batch_cost\n",
    "        n_processed_batches += 1\n",
    "    \n",
    "    epoch_mean_cost = cost_acc / n_processed_batches\n",
    "    \n",
    "    return epoch_mean_cost\n",
    "    "
   ]
  },
  {
   "cell_type": "code",
   "execution_count": 90,
   "metadata": {
    "collapsed": false,
    "scrolled": true
   },
   "outputs": [
    {
     "name": "stdout",
     "output_type": "stream",
     "text": [
      "2.11171464125\n",
      "1.72634406885\n",
      "1.4576073885\n",
      "1.26831691795\n",
      "1.13120970461\n",
      "1.02849098709\n",
      "0.949011862278\n",
      "0.885737929079\n",
      "0.834119538466\n",
      "0.791125708156\n",
      "0.754677315553\n",
      "0.723308609592\n",
      "0.695960124334\n",
      "0.671848813693\n",
      "0.650384207567\n",
      "0.631112833818\n",
      "0.613680965371\n",
      "0.597808324628\n",
      "0.58327032129\n",
      "0.569884383016\n",
      "0.557500849168\n",
      "0.545995626185\n",
      "0.535264972183\n",
      "0.525221480264\n",
      "0.515790869792\n",
      "0.506909585661\n",
      "0.498522980346\n",
      "0.490583674775\n",
      "0.483050541745\n",
      "0.475887454218\n",
      "0.469062685966\n",
      "0.462548275789\n",
      "0.456319401662\n",
      "0.450353903903\n",
      "0.444631993771\n",
      "0.43913607796\n",
      "0.433850096332\n",
      "0.428759713968\n",
      "0.423851887385\n",
      "0.419114851289\n",
      "0.414537767569\n",
      "0.410110937224\n",
      "0.40582532684\n",
      "0.401672734155\n",
      "0.397645582755\n",
      "0.393736965126\n",
      "0.389940427409\n",
      "0.386250095235\n",
      "0.382660481665\n",
      "0.379166526927\n",
      "0.375763492452\n",
      "0.372446967496\n",
      "0.369212965171\n",
      "0.366057541635\n",
      "0.362977254722\n",
      "0.359968715244\n",
      "0.357028858529\n",
      "0.35415470269\n",
      "0.351343547304\n",
      "0.34859277308\n",
      "0.34589995775\n",
      "0.343262881041\n",
      "0.340679294533\n",
      "0.338147229618\n",
      "0.335664732589\n",
      "0.333229990469\n",
      "0.330841297905\n",
      "0.328496999211\n",
      "0.326195579436\n",
      "0.323935525285\n",
      "0.321715450949\n",
      "0.319534069962\n",
      "0.3173900793\n",
      "0.315282270312\n",
      "0.313209540314\n",
      "0.311170776685\n",
      "0.309164962835\n",
      "0.307191042436\n",
      "0.305248128043\n",
      "0.303335269292\n",
      "0.301451643308\n",
      "0.299596359332\n",
      "0.297768670652\n",
      "0.295967795783\n",
      "0.294192964832\n",
      "0.292443555262\n",
      "0.290718833605\n",
      "0.289018187258\n",
      "0.287340939045\n",
      "0.285686557492\n",
      "0.284054438273\n",
      "0.282444008523\n",
      "0.280854754978\n",
      "0.279286139541\n",
      "0.277737738358\n",
      "0.27620897856\n",
      "0.274699456162\n",
      "0.273208727439\n",
      "0.271736361914\n",
      "0.270281924142\n"
     ]
    }
   ],
   "source": [
    "n_epochs = 100\n",
    "epoch_costs = []\n",
    "for i in range(n_epochs):\n",
    "    epoch_cost = train_one_epoch()\n",
    "    epoch_costs.append(\n",
    "        epoch_cost\n",
    "    )\n",
    "    print(epoch_cost)"
   ]
  },
  {
   "cell_type": "code",
   "execution_count": 91,
   "metadata": {
    "collapsed": false,
    "scrolled": true
   },
   "outputs": [
    {
     "data": {
      "text/plain": [
       "[<matplotlib.lines.Line2D at 0x7f22c2c1e650>]"
      ]
     },
     "execution_count": 91,
     "metadata": {},
     "output_type": "execute_result"
    },
    {
     "data": {
      "image/png": "[encoded data removed]",
      "text/html": [
       "\n",
       "\n",
       "<style>\n",
       "\n",
       "</style>\n",
       "\n",
       "<div id=\"fig_el61221397871855090083662872577\"></div>\n",
       "<script>\n",
       "function mpld3_load_lib(url, callback){\n",
       "  var s = document.createElement('script');\n",
       "  s.src = url;\n",
       "  s.async = true;\n",
       "  s.onreadystatechange = s.onload = callback;\n",
       "  s.onerror = function(){console.warn(\"failed to load library \" + url);};\n",
       "  document.getElementsByTagName(\"head\")[0].appendChild(s);\n",
       "}\n",
       "\n",
       "if(typeof(mpld3) !== \"undefined\" && mpld3._mpld3IsLoaded){\n",
       "   // already loaded: just create the figure\n",
       "   !function(mpld3){\n",
       "       \n",
       "       mpld3.draw_figure(\"fig_el61221397871855090083662872577\", {\"axes\": [{\"xlim\": [0.0, 100.0], \"yscale\": \"linear\", \"axesbg\": \"#FFFFFF\", \"texts\": [], \"zoomable\": true, \"images\": [], \"xdomain\": [0.0, 100.0], \"ylim\": [0.0, 2.5], \"paths\": [], \"sharey\": [], \"sharex\": [], \"axesbgalpha\": null, \"axes\": [{\"scale\": \"linear\", \"tickformat\": null, \"grid\": {\"gridOn\": false}, \"fontsize\": 10.0, \"position\": \"bottom\", \"nticks\": 6, \"tickvalues\": null}, {\"scale\": \"linear\", \"tickformat\": null, \"grid\": {\"gridOn\": false}, \"fontsize\": 10.0, \"position\": \"left\", \"nticks\": 6, \"tickvalues\": null}], \"lines\": [{\"color\": \"#0000FF\", \"yindex\": 1, \"coordinates\": \"data\", \"dasharray\": \"10,0\", \"zorder\": 2, \"alpha\": 1, \"xindex\": 0, \"linewidth\": 1.0, \"data\": \"data01\", \"id\": \"el6122139787273102928\"}], \"markers\": [], \"id\": \"el6122139787182197840\", \"ydomain\": [0.0, 2.5], \"collections\": [], \"xscale\": \"linear\", \"bbox\": [0.125, 0.125, 0.77500000000000002, 0.77500000000000002]}], \"height\": 320.0, \"width\": 480.0, \"plugins\": [{\"type\": \"reset\"}, {\"enabled\": false, \"button\": true, \"type\": \"zoom\"}, {\"enabled\": false, \"button\": true, \"type\": \"boxzoom\"}], \"data\": {\"data01\": [[0.0, 2.1117146412531533], [1.0, 1.726344068845113], [2.0, 1.457607388496399], [3.0, 1.2683169179492526], [4.0, 1.1312097046110365], [5.0, 1.0284909870889452], [6.0, 0.9490118622779846], [7.0, 0.8857379290792677], [8.0, 0.8341195384661356], [9.0, 0.7911257081561618], [10.0, 0.7546773155530294], [11.0, 0.72330860959159], [12.0, 0.6959601243336996], [13.0, 0.6718488136927286], [14.0, 0.6503842075665792], [15.0, 0.6311128338177999], [16.0, 0.6136809653706021], [17.0, 0.597808324628406], [18.0, 0.5832703212896982], [19.0, 0.5698843830161624], [20.0, 0.5575008491675059], [21.0, 0.5459956261846755], [22.0, 0.5352649721834395], [23.0, 0.525221480263604], [24.0, 0.5157908697923025], [25.0, 0.5069095856613584], [26.0, 0.49852298034562004], [27.0, 0.4905836747752296], [28.0, 0.48305054174529183], [29.0, 0.4758874542183346], [30.0, 0.4690626859664917], [31.0, 0.46254827578862506], [32.0, 0.456319401661555], [33.0, 0.45035390390290153], [34.0, 0.44463199377059937], [35.0, 0.4391360779603322], [36.0, 0.43385009633170235], [37.0, 0.4287597139676412], [38.0, 0.4238518873850505], [39.0, 0.4191148512893253], [40.0, 0.41453776756922406], [41.0, 0.4101109372244941], [42.0, 0.4058253268400828], [43.0, 0.40167273415459526], [44.0, 0.3976455827554067], [45.0, 0.39373696512646145], [46.0, 0.38994042740927803], [47.0, 0.3862500952349769], [48.0, 0.38266048166486955], [49.0, 0.37916652692688835], [50.0, 0.37576349245177376], [51.0, 0.3724469674958123], [52.0, 0.3692129651705424], [53.0, 0.36605754163530135], [54.0, 0.3629772547218535], [55.0, 0.35996871524386936], [56.0, 0.35702885852919686], [57.0, 0.35415470268991256], [58.0, 0.3513435473044713], [59.0, 0.34859277307987213], [60.0, 0.3458999577495787], [61.0, 0.3432628810405731], [62.0, 0.34067929453319973], [63.0, 0.33814722961849636], [64.0, 0.33566473258866203], [65.0, 0.33322999046908486], [66.0, 0.3308412979046504], [67.0, 0.3284969992107815], [68.0, 0.32619557943609023], [69.0, 0.3239355252848731], [70.0, 0.32171545094913906], [71.0, 0.3195340699619717], [72.0, 0.3173900792996089], [73.0, 0.31528227031230927], [74.0, 0.31320954031414455], [75.0, 0.3111707766850789], [76.0, 0.30916496283478206], [77.0, 0.30719104243649376], [78.0, 0.3052481280432807], [79.0, 0.3033352692921956], [80.0, 0.3014516433080037], [81.0, 0.29959635933240253], [82.0, 0.2977686706516478], [83.0, 0.29596779578261906], [84.0, 0.29419296483198804], [85.0, 0.29244355526235366], [86.0, 0.2907188336054484], [87.0, 0.2890181872579787], [88.0, 0.2873409390449524], [89.0, 0.28568655749162036], [90.0, 0.284054438273112], [91.0, 0.2824440085225635], [92.0, 0.2808547549777561], [93.0, 0.2792861395412021], [94.0, 0.2777377383576499], [95.0, 0.27620897856023574], [96.0, 0.2746994561619229], [97.0, 0.27320872743924457], [98.0, 0.27173636191421086], [99.0, 0.2702819241417779]]}, \"id\": \"el6122139787185509008\"});\n",
       "   }(mpld3);\n",
       "}else if(typeof define === \"function\" && define.amd){\n",
       "   // require.js is available: use it to load d3/mpld3\n",
       "   require.config({paths: {d3: \"https://mpld3.github.io/js/d3.v3.min\"}});\n",
       "   require([\"d3\"], function(d3){\n",
       "      window.d3 = d3;\n",
       "      mpld3_load_lib(\"https://mpld3.github.io/js/mpld3.v0.2.js\", function(){\n",
       "         \n",
       "         mpld3.draw_figure(\"fig_el61221397871855090083662872577\", {\"axes\": [{\"xlim\": [0.0, 100.0], \"yscale\": \"linear\", \"axesbg\": \"#FFFFFF\", \"texts\": [], \"zoomable\": true, \"images\": [], \"xdomain\": [0.0, 100.0], \"ylim\": [0.0, 2.5], \"paths\": [], \"sharey\": [], \"sharex\": [], \"axesbgalpha\": null, \"axes\": [{\"scale\": \"linear\", \"tickformat\": null, \"grid\": {\"gridOn\": false}, \"fontsize\": 10.0, \"position\": \"bottom\", \"nticks\": 6, \"tickvalues\": null}, {\"scale\": \"linear\", \"tickformat\": null, \"grid\": {\"gridOn\": false}, \"fontsize\": 10.0, \"position\": \"left\", \"nticks\": 6, \"tickvalues\": null}], \"lines\": [{\"color\": \"#0000FF\", \"yindex\": 1, \"coordinates\": \"data\", \"dasharray\": \"10,0\", \"zorder\": 2, \"alpha\": 1, \"xindex\": 0, \"linewidth\": 1.0, \"data\": \"data01\", \"id\": \"el6122139787273102928\"}], \"markers\": [], \"id\": \"el6122139787182197840\", \"ydomain\": [0.0, 2.5], \"collections\": [], \"xscale\": \"linear\", \"bbox\": [0.125, 0.125, 0.77500000000000002, 0.77500000000000002]}], \"height\": 320.0, \"width\": 480.0, \"plugins\": [{\"type\": \"reset\"}, {\"enabled\": false, \"button\": true, \"type\": \"zoom\"}, {\"enabled\": false, \"button\": true, \"type\": \"boxzoom\"}], \"data\": {\"data01\": [[0.0, 2.1117146412531533], [1.0, 1.726344068845113], [2.0, 1.457607388496399], [3.0, 1.2683169179492526], [4.0, 1.1312097046110365], [5.0, 1.0284909870889452], [6.0, 0.9490118622779846], [7.0, 0.8857379290792677], [8.0, 0.8341195384661356], [9.0, 0.7911257081561618], [10.0, 0.7546773155530294], [11.0, 0.72330860959159], [12.0, 0.6959601243336996], [13.0, 0.6718488136927286], [14.0, 0.6503842075665792], [15.0, 0.6311128338177999], [16.0, 0.6136809653706021], [17.0, 0.597808324628406], [18.0, 0.5832703212896982], [19.0, 0.5698843830161624], [20.0, 0.5575008491675059], [21.0, 0.5459956261846755], [22.0, 0.5352649721834395], [23.0, 0.525221480263604], [24.0, 0.5157908697923025], [25.0, 0.5069095856613584], [26.0, 0.49852298034562004], [27.0, 0.4905836747752296], [28.0, 0.48305054174529183], [29.0, 0.4758874542183346], [30.0, 0.4690626859664917], [31.0, 0.46254827578862506], [32.0, 0.456319401661555], [33.0, 0.45035390390290153], [34.0, 0.44463199377059937], [35.0, 0.4391360779603322], [36.0, 0.43385009633170235], [37.0, 0.4287597139676412], [38.0, 0.4238518873850505], [39.0, 0.4191148512893253], [40.0, 0.41453776756922406], [41.0, 0.4101109372244941], [42.0, 0.4058253268400828], [43.0, 0.40167273415459526], [44.0, 0.3976455827554067], [45.0, 0.39373696512646145], [46.0, 0.38994042740927803], [47.0, 0.3862500952349769], [48.0, 0.38266048166486955], [49.0, 0.37916652692688835], [50.0, 0.37576349245177376], [51.0, 0.3724469674958123], [52.0, 0.3692129651705424], [53.0, 0.36605754163530135], [54.0, 0.3629772547218535], [55.0, 0.35996871524386936], [56.0, 0.35702885852919686], [57.0, 0.35415470268991256], [58.0, 0.3513435473044713], [59.0, 0.34859277307987213], [60.0, 0.3458999577495787], [61.0, 0.3432628810405731], [62.0, 0.34067929453319973], [63.0, 0.33814722961849636], [64.0, 0.33566473258866203], [65.0, 0.33322999046908486], [66.0, 0.3308412979046504], [67.0, 0.3284969992107815], [68.0, 0.32619557943609023], [69.0, 0.3239355252848731], [70.0, 0.32171545094913906], [71.0, 0.3195340699619717], [72.0, 0.3173900792996089], [73.0, 0.31528227031230927], [74.0, 0.31320954031414455], [75.0, 0.3111707766850789], [76.0, 0.30916496283478206], [77.0, 0.30719104243649376], [78.0, 0.3052481280432807], [79.0, 0.3033352692921956], [80.0, 0.3014516433080037], [81.0, 0.29959635933240253], [82.0, 0.2977686706516478], [83.0, 0.29596779578261906], [84.0, 0.29419296483198804], [85.0, 0.29244355526235366], [86.0, 0.2907188336054484], [87.0, 0.2890181872579787], [88.0, 0.2873409390449524], [89.0, 0.28568655749162036], [90.0, 0.284054438273112], [91.0, 0.2824440085225635], [92.0, 0.2808547549777561], [93.0, 0.2792861395412021], [94.0, 0.2777377383576499], [95.0, 0.27620897856023574], [96.0, 0.2746994561619229], [97.0, 0.27320872743924457], [98.0, 0.27173636191421086], [99.0, 0.2702819241417779]]}, \"id\": \"el6122139787185509008\"});\n",
       "      });\n",
       "    });\n",
       "}else{\n",
       "    // require.js not available: dynamically load d3 & mpld3\n",
       "    mpld3_load_lib(\"https://mpld3.github.io/js/d3.v3.min.js\", function(){\n",
       "         mpld3_load_lib(\"https://mpld3.github.io/js/mpld3.v0.2.js\", function(){\n",
       "                 \n",
       "                 mpld3.draw_figure(\"fig_el61221397871855090083662872577\", {\"axes\": [{\"xlim\": [0.0, 100.0], \"yscale\": \"linear\", \"axesbg\": \"#FFFFFF\", \"texts\": [], \"zoomable\": true, \"images\": [], \"xdomain\": [0.0, 100.0], \"ylim\": [0.0, 2.5], \"paths\": [], \"sharey\": [], \"sharex\": [], \"axesbgalpha\": null, \"axes\": [{\"scale\": \"linear\", \"tickformat\": null, \"grid\": {\"gridOn\": false}, \"fontsize\": 10.0, \"position\": \"bottom\", \"nticks\": 6, \"tickvalues\": null}, {\"scale\": \"linear\", \"tickformat\": null, \"grid\": {\"gridOn\": false}, \"fontsize\": 10.0, \"position\": \"left\", \"nticks\": 6, \"tickvalues\": null}], \"lines\": [{\"color\": \"#0000FF\", \"yindex\": 1, \"coordinates\": \"data\", \"dasharray\": \"10,0\", \"zorder\": 2, \"alpha\": 1, \"xindex\": 0, \"linewidth\": 1.0, \"data\": \"data01\", \"id\": \"el6122139787273102928\"}], \"markers\": [], \"id\": \"el6122139787182197840\", \"ydomain\": [0.0, 2.5], \"collections\": [], \"xscale\": \"linear\", \"bbox\": [0.125, 0.125, 0.77500000000000002, 0.77500000000000002]}], \"height\": 320.0, \"width\": 480.0, \"plugins\": [{\"type\": \"reset\"}, {\"enabled\": false, \"button\": true, \"type\": \"zoom\"}, {\"enabled\": false, \"button\": true, \"type\": \"boxzoom\"}], \"data\": {\"data01\": [[0.0, 2.1117146412531533], [1.0, 1.726344068845113], [2.0, 1.457607388496399], [3.0, 1.2683169179492526], [4.0, 1.1312097046110365], [5.0, 1.0284909870889452], [6.0, 0.9490118622779846], [7.0, 0.8857379290792677], [8.0, 0.8341195384661356], [9.0, 0.7911257081561618], [10.0, 0.7546773155530294], [11.0, 0.72330860959159], [12.0, 0.6959601243336996], [13.0, 0.6718488136927286], [14.0, 0.6503842075665792], [15.0, 0.6311128338177999], [16.0, 0.6136809653706021], [17.0, 0.597808324628406], [18.0, 0.5832703212896982], [19.0, 0.5698843830161624], [20.0, 0.5575008491675059], [21.0, 0.5459956261846755], [22.0, 0.5352649721834395], [23.0, 0.525221480263604], [24.0, 0.5157908697923025], [25.0, 0.5069095856613584], [26.0, 0.49852298034562004], [27.0, 0.4905836747752296], [28.0, 0.48305054174529183], [29.0, 0.4758874542183346], [30.0, 0.4690626859664917], [31.0, 0.46254827578862506], [32.0, 0.456319401661555], [33.0, 0.45035390390290153], [34.0, 0.44463199377059937], [35.0, 0.4391360779603322], [36.0, 0.43385009633170235], [37.0, 0.4287597139676412], [38.0, 0.4238518873850505], [39.0, 0.4191148512893253], [40.0, 0.41453776756922406], [41.0, 0.4101109372244941], [42.0, 0.4058253268400828], [43.0, 0.40167273415459526], [44.0, 0.3976455827554067], [45.0, 0.39373696512646145], [46.0, 0.38994042740927803], [47.0, 0.3862500952349769], [48.0, 0.38266048166486955], [49.0, 0.37916652692688835], [50.0, 0.37576349245177376], [51.0, 0.3724469674958123], [52.0, 0.3692129651705424], [53.0, 0.36605754163530135], [54.0, 0.3629772547218535], [55.0, 0.35996871524386936], [56.0, 0.35702885852919686], [57.0, 0.35415470268991256], [58.0, 0.3513435473044713], [59.0, 0.34859277307987213], [60.0, 0.3458999577495787], [61.0, 0.3432628810405731], [62.0, 0.34067929453319973], [63.0, 0.33814722961849636], [64.0, 0.33566473258866203], [65.0, 0.33322999046908486], [66.0, 0.3308412979046504], [67.0, 0.3284969992107815], [68.0, 0.32619557943609023], [69.0, 0.3239355252848731], [70.0, 0.32171545094913906], [71.0, 0.3195340699619717], [72.0, 0.3173900792996089], [73.0, 0.31528227031230927], [74.0, 0.31320954031414455], [75.0, 0.3111707766850789], [76.0, 0.30916496283478206], [77.0, 0.30719104243649376], [78.0, 0.3052481280432807], [79.0, 0.3033352692921956], [80.0, 0.3014516433080037], [81.0, 0.29959635933240253], [82.0, 0.2977686706516478], [83.0, 0.29596779578261906], [84.0, 0.29419296483198804], [85.0, 0.29244355526235366], [86.0, 0.2907188336054484], [87.0, 0.2890181872579787], [88.0, 0.2873409390449524], [89.0, 0.28568655749162036], [90.0, 0.284054438273112], [91.0, 0.2824440085225635], [92.0, 0.2808547549777561], [93.0, 0.2792861395412021], [94.0, 0.2777377383576499], [95.0, 0.27620897856023574], [96.0, 0.2746994561619229], [97.0, 0.27320872743924457], [98.0, 0.27173636191421086], [99.0, 0.2702819241417779]]}, \"id\": \"el6122139787185509008\"});\n",
       "            })\n",
       "         });\n",
       "}\n",
       "</script>"
      ],
      "text/plain": [
       "<matplotlib.figure.Figure at 0x7f22bd895290>"
      ]
     },
     "metadata": {},
     "output_type": "display_data"
    }
   ],
   "source": [
    "plt.plot(epoch_costs)"
   ]
  },
  {
   "cell_type": "code",
   "execution_count": 92,
   "metadata": {
    "collapsed": false
   },
   "outputs": [],
   "source": [
    "y_hat_evaluate = theano.function(inputs=[X], outputs=y_hat, allow_input_downcast=True)"
   ]
  },
  {
   "cell_type": "code",
   "execution_count": 93,
   "metadata": {
    "collapsed": true
   },
   "outputs": [],
   "source": [
    "y_pred = y_hat_evaluate(training_X)"
   ]
  },
  {
   "cell_type": "code",
   "execution_count": 94,
   "metadata": {
    "collapsed": false
   },
   "outputs": [],
   "source": [
    "missclass = (training_y != y_pred).sum() / n_samples"
   ]
  },
  {
   "cell_type": "code",
   "execution_count": 95,
   "metadata": {
    "collapsed": false
   },
   "outputs": [
    {
     "data": {
      "text/plain": [
       "0.056000000000000001"
      ]
     },
     "execution_count": 95,
     "metadata": {},
     "output_type": "execute_result"
    }
   ],
   "source": [
    "missclass"
   ]
  },
  {
   "cell_type": "code",
   "execution_count": null,
   "metadata": {
    "collapsed": true
   },
   "outputs": [],
   "source": []
  }
 ],
 "metadata": {
  "kernelspec": {
   "display_name": "Python 2",
   "language": "python",
   "name": "python2"
  },
  "language_info": {
   "codemirror_mode": {
    "name": "ipython",
    "version": 2
   },
   "file_extension": ".py",
   "mimetype": "text/x-python",
   "name": "python",
   "nbconvert_exporter": "python",
   "pygments_lexer": "ipython2",
   "version": "2.7.6"
  }
 },
 "nbformat": 4,
 "nbformat_minor": 0
}
